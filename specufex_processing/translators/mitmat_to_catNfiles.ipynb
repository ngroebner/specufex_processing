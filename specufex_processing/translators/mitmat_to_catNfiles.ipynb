{
 "cells": [
  {
   "cell_type": "markdown",
   "source": [
    "This notebook will translate the format from mit .mat files to the hdf5 data structure and a .csv catalog. <br>\n",
    "(It can also run specufex pre-, syn- and post-processing.) "
   ],
   "metadata": {}
  },
  {
   "cell_type": "code",
   "execution_count": 86,
   "source": [
    "import numpy as np\n",
    "import h5py as h5\n",
    "import scipy.io as scio\n",
    "import yaml\n",
    "import pandas as pd\n",
    "import os\n",
    "import matplotlib.pyplot as plt"
   ],
   "outputs": [],
   "metadata": {}
  },
  {
   "cell_type": "code",
   "execution_count": 87,
   "source": [
    "# defining the paths. \n",
    "base_path = '/media/ben/bup2020/ML_data/Tiange_NER/CO2pWater/'\n",
    "path_to_wavemat = base_path + 'CO2pWater_AEs.mat'\n",
    "\n",
    "# path to mechanical data-- actually don't need until after running specufex, and not for the \"MCW\" (Minimum common workpath)\n",
    "#path_to_mechdata = base_path + 'dunno'\n",
    "\n",
    "# read in the config file: \n",
    "# load config file\n",
    "path_to_config = '/home/ben/DATA_tmp/mitAEs/waterCO2_1/config.yml'\n",
    "with open(path_to_config, 'r') as cfigs:\n",
    "    print(cfigs)\n",
    "    try:\n",
    "        config = yaml.safe_load(cfigs)\n",
    "    except yaml.YAMLError as exc:\n",
    "        print(exc)\n",
    "\n",
    "# pull out config values for conciseness\n",
    "path_config = config[\"paths\"]\n",
    "print(path_config)\n",
    "projpath = path_config[\"projectPath\"]\n",
    "print(projpath)"
   ],
   "outputs": [
    {
     "output_type": "stream",
     "name": "stdout",
     "text": [
      "<_io.TextIOWrapper name='/home/ben/DATA_tmp/mitAEs/waterCO2_1/config.yml' mode='r' encoding='UTF-8'>\n",
      "{'key': 'mitAE_waterCO2_1', 'projectPath': '/home/ben/DATA_tmp/mitAEs/waterCO2_1/', 'pathCat': '/home/ben/DATA_tmp/mitAEs/waterCO2_1/wf_cat.csv', 'pathWF': '/home/ben/DATA_tmp/mitAEs/waterCO2_1/wavefiles_tmp/', 'h5name': 'mitAE_waterCO2_1.h5'}\n",
      "/home/ben/DATA_tmp/mitAEs/waterCO2_1/\n"
     ]
    }
   ],
   "metadata": {}
  },
  {
   "cell_type": "code",
   "execution_count": 88,
   "source": [
    "# load the mat file\n",
    "#ae_waves = scio.loadmat(path_to_wavemat)\n",
    "\n",
    "with h5.File(path_to_wavemat, 'r') as f:\n",
    "    keys = list(f.keys())\n",
    "    print(keys)\n",
    "    print(np.shape(f['Time_AE']))\n",
    "    print(type(f['Time_AE']))\n",
    "    times = np.asarray(f['Time_AE']) # flatten (np.squeeze) this... \n",
    "    \n",
    "# the data are registered in the field AE_CAT\n",
    "# ae_cat = ae_cat['AE_CAT']"
   ],
   "outputs": [
    {
     "output_type": "stream",
     "name": "stdout",
     "text": [
      "['AE_Channel_1', 'AE_Channel_2', 'AE_Channel_3', 'AE_Channel_4', 'AE_Channel_5', 'AE_Channel_6', 'AE_Channel_7', 'AE_Channel_8', 'Time_AE']\n",
      "(8791, 1)\n",
      "<class 'h5py._hl.dataset.Dataset'>\n"
     ]
    }
   ],
   "metadata": {}
  },
  {
   "cell_type": "code",
   "execution_count": 89,
   "source": [
    "print(type(times))\n",
    "times = np.squeeze(times)\n",
    "print(np.shape(times))\n",
    "\n",
    "# convert to integers\n",
    "times_ints = times.astype(int)\n",
    "print(times[0:5])\n",
    "print(times_ints[0:5])\n",
    "\n",
    "\n",
    "evID_stringlist = times_ints.astype(str)\n",
    "print(evID_stringlist[0:5])\n",
    "\n",
    "\n",
    "# new_list = [ item+1 for item in my_list ] : https://openwritings.net/pg/python/python-loop-square-brackets\n",
    "filename_stringlist = [ev+'.txt' for ev in evID_stringlist]\n",
    "print(filename_stringlist[0:5])\n",
    "#filename_stringlist = filename_stringlist + '.txt'"
   ],
   "outputs": [
    {
     "output_type": "stream",
     "name": "stdout",
     "text": [
      "<class 'numpy.ndarray'>\n",
      "(8791,)\n",
      "[77949154. 78839548. 79631317. 80246738. 80344463.]\n",
      "[77949154 78839548 79631317 80246738 80344463]\n",
      "['77949154' '78839548' '79631317' '80246738' '80344463']\n",
      "['77949154.txt', '78839548.txt', '79631317.txt', '80246738.txt', '80344463.txt']\n"
     ]
    }
   ],
   "metadata": {}
  },
  {
   "cell_type": "code",
   "execution_count": 90,
   "source": [
    "# Make a catalog in our standard format, using the start times as the event IDs and the filenames:\n",
    "'''\n",
    "ev_ID\n",
    "  - The unique event ID for the waveform.  (SHOULD THIS BE A STRING OR INT?)\n",
    "filename\n",
    "  - The name of the file containing the waveform\n",
    "timestamp\n",
    "  - Timestamp in aribitrary units. Could be in datetime format, seconds, nanoseconds, etc, \n",
    "    but the only requirement is that it designates time as a number.\n",
    "'''\n",
    "\n",
    "\n",
    "\n",
    "cat_df = pd.DataFrame({\"ev_ID\":evID_stringlist,\n",
    "                      \"filename\":filename_stringlist,\n",
    "                      \"timestamp\":times})\n",
    "\n",
    "print(cat_df)\n",
    "\n",
    "outpath = projpath+'wf_cat.csv'\n",
    "cat_df.to_csv(outpath, index=False)"
   ],
   "outputs": [
    {
     "output_type": "stream",
     "name": "stdout",
     "text": [
      "           ev_ID        filename     timestamp\n",
      "0       77949154    77949154.txt  7.794915e+07\n",
      "1       78839548    78839548.txt  7.883955e+07\n",
      "2       79631317    79631317.txt  7.963132e+07\n",
      "3       80246738    80246738.txt  8.024674e+07\n",
      "4       80344463    80344463.txt  8.034446e+07\n",
      "...          ...             ...           ...\n",
      "8786  1146819396  1146819396.txt  1.146819e+09\n",
      "8787  1146822212  1146822212.txt  1.146822e+09\n",
      "8788  1146908185  1146908185.txt  1.146908e+09\n",
      "8789  1147110925  1147110925.txt  1.147111e+09\n",
      "8790  1147143476  1147143476.txt  1.147143e+09\n",
      "\n",
      "[8791 rows x 3 columns]\n"
     ]
    }
   ],
   "metadata": {}
  },
  {
   "cell_type": "markdown",
   "source": [
    "## GET WAVEFORMS INTO h5\n",
    "(1) WRITE THE INDIVIDUAL WAVEFORMS TO A DIRECTORY <br>\n",
    "(2) RUN THE 1_makeWaveformsDataset.py <br>\n",
    "(3) Delete the directory <br>"
   ],
   "metadata": {}
  },
  {
   "cell_type": "code",
   "execution_count": 51,
   "source": [
    "# extract the waveform matrix: \n",
    "\n",
    "with h5.File(path_to_wavemat, 'r') as f:\n",
    "    keys = list(f.keys())\n",
    "    print(keys)\n",
    "    \n",
    "    ae_ra = np.asarray(f['AE_Channel_1']) # \n",
    "\n",
    "arrayshape = np.shape(ae_ra)\n",
    "# axis 0 = events, axis 1 = displacements\n",
    "# i.e. each row is a waveform ! \n",
    "\n"
   ],
   "outputs": [
    {
     "output_type": "stream",
     "name": "stdout",
     "text": [
      "['AE_Channel_1', 'AE_Channel_2', 'AE_Channel_3', 'AE_Channel_4', 'AE_Channel_5', 'AE_Channel_6', 'AE_Channel_7', 'AE_Channel_8', 'Time_AE']\n"
     ]
    }
   ],
   "metadata": {}
  },
  {
   "cell_type": "code",
   "execution_count": 52,
   "source": [
    "plt.plot(ae_ra[1000,:])"
   ],
   "outputs": [
    {
     "output_type": "execute_result",
     "data": {
      "text/plain": [
       "[<matplotlib.lines.Line2D at 0x7fefe86bfd10>]"
      ]
     },
     "metadata": {},
     "execution_count": 52
    },
    {
     "output_type": "display_data",
     "data": {
      "text/plain": [
       "<Figure size 432x288 with 1 Axes>"
      ],
      "image/png": "[encoded data removed]"
     },
     "metadata": {
      "needs_background": "light"
     }
    }
   ],
   "metadata": {}
  },
  {
   "cell_type": "code",
   "execution_count": 59,
   "source": [
    "# write the temporary directory name in the directory where the original .mat data files are (even if on an external drive)\n",
    "# or can be in the project_path\n",
    "xlist = os.listdir(projpath)\n",
    "print(xlist)\n",
    "\n",
    "temp_dir = projpath + 'wavefiles_tmp/'\n",
    "print(temp_dir)\n",
    "\n",
    "try: \n",
    "    os.mkdir(temp_dir)\n",
    "except:\n",
    "    print('the directory already exists... got a good reason to overwrite it? then delete it !')\n",
    "\n",
    "xlist = os.listdir(projpath)\n",
    "print(xlist)\n",
    "os.listdir(temp_dir)\n"
   ],
   "outputs": [
    {
     "output_type": "stream",
     "name": "stdout",
     "text": [
      "['config.yml', 'config_tmp.yml', 'wf_cat.csv', 'mat_to_h5_ebauce.py']\n",
      "/home/ben/DATA_tmp/mitAEs/wavefiles_tmp/\n",
      "['wavefiles_tmp', 'config.yml', 'config_tmp.yml', 'wf_cat.csv', 'mat_to_h5_ebauce.py']\n"
     ]
    },
    {
     "output_type": "execute_result",
     "data": {
      "text/plain": [
       "[]"
      ]
     },
     "metadata": {},
     "execution_count": 59
    }
   ],
   "metadata": {}
  },
  {
   "cell_type": "code",
   "execution_count": 60,
   "source": [
    "# create the files ! \n",
    "\n",
    "# https://numpy.org/doc/stable/reference/generated/numpy.savetxt.html\n",
    "# numpy.savetxt(fname, X, fmt='%.18e', delimiter=' ', newline='\\n', header='', footer='', comments='# ', encoding=None)\n",
    "n_files = arrayshape[0]\n",
    "print(n_files)\n",
    "\n",
    "for i in range(n_files):\n",
    "    wav = ae_ra[i,:]\n",
    "    filepathtmp = temp_dir + filename_stringlist[i]\n",
    "    np.savetxt(filepathtmp,wav)\n",
    "    if i%1000 == 0:\n",
    "        print(str(i)+' of '+str(n_files))\n",
    "    \n",
    "flist = os.listdir(temp_dir)\n",
    "print(flist[0:5])\n",
    "print(len(flist))"
   ],
   "outputs": [
    {
     "output_type": "stream",
     "name": "stdout",
     "text": [
      "8791\n",
      "0 of 8791\n",
      "100 of 8791\n",
      "200 of 8791\n",
      "300 of 8791\n",
      "400 of 8791\n",
      "500 of 8791\n",
      "600 of 8791\n",
      "700 of 8791\n",
      "800 of 8791\n",
      "900 of 8791\n",
      "1000 of 8791\n",
      "1100 of 8791\n",
      "1200 of 8791\n",
      "1300 of 8791\n",
      "1400 of 8791\n",
      "1500 of 8791\n",
      "1600 of 8791\n",
      "1700 of 8791\n",
      "1800 of 8791\n",
      "1900 of 8791\n",
      "2000 of 8791\n",
      "2100 of 8791\n",
      "2200 of 8791\n",
      "2300 of 8791\n",
      "2400 of 8791\n",
      "2500 of 8791\n",
      "2600 of 8791\n",
      "2700 of 8791\n",
      "2800 of 8791\n",
      "2900 of 8791\n",
      "3000 of 8791\n",
      "3100 of 8791\n",
      "3200 of 8791\n",
      "3300 of 8791\n",
      "3400 of 8791\n",
      "3500 of 8791\n",
      "3600 of 8791\n",
      "3700 of 8791\n",
      "3800 of 8791\n",
      "3900 of 8791\n",
      "4000 of 8791\n",
      "4100 of 8791\n",
      "4200 of 8791\n",
      "4300 of 8791\n",
      "4400 of 8791\n",
      "4500 of 8791\n",
      "4600 of 8791\n",
      "4700 of 8791\n",
      "4800 of 8791\n",
      "4900 of 8791\n",
      "5000 of 8791\n",
      "5100 of 8791\n",
      "5200 of 8791\n",
      "5300 of 8791\n",
      "5400 of 8791\n",
      "5500 of 8791\n",
      "5600 of 8791\n",
      "5700 of 8791\n",
      "5800 of 8791\n",
      "5900 of 8791\n",
      "6000 of 8791\n",
      "6100 of 8791\n",
      "6200 of 8791\n",
      "6300 of 8791\n",
      "6400 of 8791\n",
      "6500 of 8791\n",
      "6600 of 8791\n",
      "6700 of 8791\n",
      "6800 of 8791\n",
      "6900 of 8791\n",
      "7000 of 8791\n",
      "7100 of 8791\n",
      "7200 of 8791\n",
      "7300 of 8791\n",
      "7400 of 8791\n",
      "7500 of 8791\n",
      "7600 of 8791\n",
      "7700 of 8791\n",
      "7800 of 8791\n",
      "7900 of 8791\n",
      "8000 of 8791\n",
      "8100 of 8791\n",
      "8200 of 8791\n",
      "8300 of 8791\n",
      "8400 of 8791\n",
      "8500 of 8791\n",
      "8600 of 8791\n",
      "8700 of 8791\n",
      "['890770377.txt', '1062584767.txt', '1056179408.txt', '790922419.txt', '604227797.txt']\n",
      "8791\n"
     ]
    }
   ],
   "metadata": {
    "collapsed": true,
    "jupyter": {
     "outputs_hidden": true
    },
    "tags": []
   }
  },
  {
   "cell_type": "code",
   "execution_count": 92,
   "source": [
    "# construct the command to run the script\n",
    "abspath_script = '/home/ben/githole/specufex_processing/1_preprocessing/1_makeWaveformsDataset.py'\n",
    "relpath_script = '../1_preprocessing/1_makeWaveformsDataset.py'\n",
    "localpath_script = '1_makeWaveformsDataset.py'\n",
    "cmd = 'python ' + localpath_script +' '+ path_to_config\n",
    "print(cmd)\n"
   ],
   "outputs": [
    {
     "output_type": "stream",
     "name": "stdout",
     "text": [
      "python 1_makeWaveformsDataset.py /home/ben/DATA_tmp/mitAEs/waterCO2_1/config.yml\n"
     ]
    }
   ],
   "metadata": {}
  },
  {
   "cell_type": "code",
   "execution_count": 66,
   "source": [
    "# RUN the script to make the h5 ! \n",
    "# Do it here from the notebook, using a method below,  \n",
    "# OR just copy the cmd from the output of the box above and run it in a terminal, \n",
    "# especially if you did not launch this notebook in the same environment that contains obspy\n",
    "\n",
    "\n",
    "# https://janakiev.com/blog/python-shell-commands/\n",
    "# this works but returns no output: os.system(cmd)\n",
    "\n",
    "#stream = os.popen(cmd)\n",
    "#output = stream.read()\n",
    "#print(output) # this does NOT work ! you have to look in the terminal where you launched the notebook to see this. \n",
    "\n",
    "#import subprocess\n",
    "# better to use subprocess.run : \n",
    "# https://docs.python.org/3/library/subprocess.html#subprocess.run\n",
    "\n"
   ],
   "outputs": [
    {
     "output_type": "stream",
     "name": "stdout",
     "text": [
      "\n"
     ]
    }
   ],
   "metadata": {}
  },
  {
   "cell_type": "code",
   "execution_count": 97,
   "source": [
    "# test the h5 ! \n",
    "h5list = os.listdir(projpath+'H5files/')\n",
    "print(h5list)"
   ],
   "outputs": [
    {
     "output_type": "stream",
     "name": "stdout",
     "text": [
      "['data_mitAE_waterCO2_1.h5']\n"
     ]
    }
   ],
   "metadata": {}
  },
  {
   "cell_type": "code",
   "execution_count": 102,
   "source": [
    "config[\"dataParams\"].keys()\n",
    "data_config = config[\"dataParams\"]\n",
    "print(data_config.keys())\n",
    "station = data_config[\"station\"]\n",
    "channel = data_config[\"channel\"]\n",
    "wavenametest = evID_stringlist[27]\n",
    "\n",
    "dataH5_path = projpath+'H5files/' + h5list[0]\n",
    "with h5.File(dataH5_path,'r') as h5file:\n",
    "    fs =  h5file[f\"{station}/processing_info\"].get('sampling_rate_Hz')[()]\n",
    "    testwav = h5file[f\"/waveforms/{station}/{channel}/{wavenametest}\"][()]\n",
    "    \n",
    "print(fs)\n",
    "plt.plot(testwav)\n",
    "\n"
   ],
   "outputs": [
    {
     "output_type": "stream",
     "name": "stdout",
     "text": [
      "dict_keys(['network', 'station', 'channel', 'channel_ID', 'sampling_rate', 'filetype', 'cat_columns'])\n",
      "50000000\n"
     ]
    },
    {
     "output_type": "execute_result",
     "data": {
      "text/plain": [
       "[<matplotlib.lines.Line2D at 0x7fefe6527c10>]"
      ]
     },
     "metadata": {},
     "execution_count": 102
    },
    {
     "output_type": "display_data",
     "data": {
      "text/plain": [
       "<Figure size 432x288 with 1 Axes>"
      ],
      "image/png": "[encoded data removed]"
     },
     "metadata": {
      "needs_background": "light"
     }
    }
   ],
   "metadata": {}
  },
  {
   "cell_type": "code",
   "execution_count": 104,
   "source": [
    "# DELETE the temporary directory of all the individual waveforms... \n",
    "\n",
    "cmddel = 'rm -r ' + temp_dir\n",
    "print(cmddel) \n",
    "# copy and run from terminal... "
   ],
   "outputs": [
    {
     "output_type": "stream",
     "name": "stdout",
     "text": [
      "rm -r /home/ben/DATA_tmp/mitAEs/wavefiles_tmp/\n"
     ]
    }
   ],
   "metadata": {}
  },
  {
   "cell_type": "code",
   "execution_count": null,
   "source": [],
   "outputs": [],
   "metadata": {}
  }
 ],
 "metadata": {
  "kernelspec": {
   "display_name": "Python 3",
   "language": "python",
   "name": "python3"
  },
  "language_info": {
   "codemirror_mode": {
    "name": "ipython",
    "version": 3
   },
   "file_extension": ".py",
   "mimetype": "text/x-python",
   "name": "python",
   "nbconvert_exporter": "python",
   "pygments_lexer": "ipython3",
   "version": "3.7.8"
  }
 },
 "nbformat": 4,
 "nbformat_minor": 5
}