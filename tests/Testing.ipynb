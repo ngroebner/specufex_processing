{
 "cells": [
  {
   "cell_type": "code",
   "execution_count": 1,
   "id": "9e8e7f1f-67d8-4770-b9b5-3db02a86b208",
   "metadata": {},
   "outputs": [],
   "source": [
    "#!python3\n",
    "import argparse\n",
    "import os\n",
    "\n",
    "import h5py\n",
    "import pandas as pd\n",
    "import yaml\n",
    "\n",
    "from specufex_processing.preprocessing import dataframe2hdf\n",
    "from specufex_processing.utils import _overwrite_group_if_exists\n",
    "import pdb\n",
    "import numpy as np"
   ]
  },
  {
   "cell_type": "code",
   "execution_count": 2,
   "id": "be5b7491-701b-47c9-a3ad-01aa3b53a76e",
   "metadata": {},
   "outputs": [],
   "source": [
    "if __name__ == \"__main__\":\n",
    "    # command line argument instead of hard coding to config file\n",
    "    with open(\"config_test1.yml\", 'r') as yamlfile:\n",
    "        config = yaml.load(yamlfile, Loader=yaml.FullLoader)\n",
    "\n",
    "    # pull out config values for conciseness\n",
    "    path_config = config[\"paths\"]\n",
    "    key = path_config[\"key\"]\n",
    "\n",
    "    data_config = config['dataParams']\n",
    "    station = data_config[\"station\"]\n",
    "    channel = data_config[\"channel\"]\n",
    "    channel_ID = data_config[\"channel_ID\"]\n",
    "    sampling_rate = data_config[\"sampling_rate\"]\n",
    "\n",
    "    # build path strings\n",
    "    dataH5_name = f'data_{key}.h5'\n",
    "    projectPath = path_config[\"projectPath\"]\n",
    "\n",
    "    dataH5_path = os.path.join(projectPath,'H5files/', dataH5_name)\n",
    "    SpecUFEx_H5_name = 'SpecUFEx_' + path_config[\"h5name\"]\n",
    "    SpecUFEx_H5_path = os.path.join(projectPath, 'H5files/', SpecUFEx_H5_name)\n",
    "    pathWf_cat  = os.path.join(projectPath, 'wf_cat_out.csv')\n",
    "\n",
    "    path_dist_matrix_base = os.path.join(config['paths']['projectPath'],\"distance_matrices\")\n",
    "    os.makedirs(path_dist_matrix_base,exist_ok=True)\n",
    "\n",
    "    distance_params = config['distanceParams']\n",
    "    overwrite_distance = distance_params['overwrite_distance']\n",
    "    distance_measure_name_list = ['_L1_distance','_L2_distance','_cos_distance','_corr_distance']\n",
    "    distance_measure_name_list_val = ['l1','l2','cosine','correlation']\n",
    "\n"
   ]
  },
  {
   "cell_type": "code",
   "execution_count": 3,
   "id": "e778d3c2-4690-4162-b57f-7f0f87ad3964",
   "metadata": {},
   "outputs": [],
   "source": [
    "import importlib as oe\n",
    "from specufex_processing.distance import utils_distance as udst\n"
   ]
  },
  {
   "cell_type": "code",
   "execution_count": 4,
   "id": "653fba0e-c8cd-4a5f-87f0-f2bf1a358f42",
   "metadata": {},
   "outputs": [
    {
     "data": {
      "text/plain": [
       "<module 'specufex_processing.distance.utils_distance' from '/home/tmittal/Dropbox/Projects/gsm/specufex_processing/specufex_processing/distance/utils_distance.py'>"
      ]
     },
     "execution_count": 4,
     "metadata": {},
     "output_type": "execute_result"
    }
   ],
   "source": [
    "oe.reload(udst)"
   ]
  },
  {
   "cell_type": "code",
   "execution_count": 10,
   "id": "5ebe0d46-bcc3-4328-b0ca-55c23cb5c8ce",
   "metadata": {},
   "outputs": [
    {
     "name": "stdout",
     "output_type": "stream",
     "text": [
      "Loading the waveforms ... \n",
      "Calculating Distance Matrix for _Cross_Correlation\n",
      "Distance matrix for _Cross_Correlation test1/results/distance_matrices/waveforms/Non_normalized_waveform exists\n",
      "Calculating Distance Matrix for _L1_distance\n",
      "Distance matrix for _L1_distance test1/results/distance_matrices/waveforms/Non_normalized_waveform exists\n",
      "Calculating Distance Matrix for _L2_distance\n",
      "Distance matrix for _L2_distance test1/results/distance_matrices/waveforms/Non_normalized_waveform exists\n",
      "Calculating Distance Matrix for _cos_distance\n",
      "Distance matrix for _cos_distance test1/results/distance_matrices/waveforms/Non_normalized_waveform exists\n",
      "Calculating Distance Matrix for _corr_distance\n",
      "Distance matrix for _corr_distance test1/results/distance_matrices/waveforms/Non_normalized_waveform exists\n",
      "Done Calculations\n",
      "Calculating Distance Matrix for _Cross_Correlation\n",
      "Distance matrix for _Cross_Correlation test1/results/distance_matrices/waveforms/MaxAbsScaler_normalized_waveform exists\n",
      "Calculating Distance Matrix for _L1_distance\n",
      "Distance matrix for _L1_distance test1/results/distance_matrices/waveforms/MaxAbsScaler_normalized_waveform exists\n",
      "Calculating Distance Matrix for _L2_distance\n",
      "Distance matrix for _L2_distance test1/results/distance_matrices/waveforms/MaxAbsScaler_normalized_waveform exists\n",
      "Calculating Distance Matrix for _cos_distance\n",
      "Distance matrix for _cos_distance test1/results/distance_matrices/waveforms/MaxAbsScaler_normalized_waveform exists\n",
      "Calculating Distance Matrix for _corr_distance\n",
      "Distance matrix for _corr_distance test1/results/distance_matrices/waveforms/MaxAbsScaler_normalized_waveform exists\n",
      "Done Calculations\n"
     ]
    }
   ],
   "source": [
    "    if distance_params['distance_waveforms'] :\n",
    "        print('Loading the waveforms ... ')\n",
    "        path_dist_matrix_wave = os.path.join(path_dist_matrix_base,\"waveforms\")\n",
    "        os.makedirs(path_dist_matrix_wave,exist_ok=True)\n",
    "\n",
    "        ### Calculate the distance matrices for the waveforms\n",
    "        X = []\n",
    "        with h5py.File(dataH5_path,'r') as fileLoad:\n",
    "            for evID in fileLoad[f'waveforms/{station}/{channel}']:\n",
    "                specMat = fileLoad[f'waveforms/{station}/{channel}'].get(evID)[:]\n",
    "                X.append(specMat)\n",
    "\n",
    "            X = np.array(X)\n",
    "            waveform_size = X.shape[1]\n",
    "        distance_params['shift_allowed'] = int(waveform_size*distance_params['frac_shift_allowed'])\n",
    "\n",
    "        if distance_params['distance_nonNorm'] :\n",
    "            prefix_name = path_dist_matrix_wave+'/Non_normalized_waveform'\n",
    "            udst.calculate_distances_all(X,distance_params,prefix_name,\n",
    "                                        distance_measure_name_list,\n",
    "                                        distance_measure_name_list_val,\n",
    "                                        use_cross_corr=True)\n",
    "\n",
    "        wave_norm = distance_params['waveform_normalization']\n",
    "        X_norm = normalize_waveform(X,norm_scale = wave_norm,save_plot=True,\n",
    "                                    path_to_save = path_dist_matrix_wave +f\"/Normalized_{wave_norm}\")\n",
    "        prefix_name = path_dist_matrix_wave+f'/{wave_norm}_normalized_waveform'\n",
    "        udst.calculate_distances_all(X_norm,distance_params,prefix_name,\n",
    "                                    distance_measure_name_list,\n",
    "                                    distance_measure_name_list_val,\n",
    "                                    use_cross_corr=True)\n",
    "\n"
   ]
  },
  {
   "cell_type": "code",
   "execution_count": 6,
   "id": "89a1986f-35d8-425f-9af8-774777f59eb2",
   "metadata": {},
   "outputs": [],
   "source": [
    "from specufex_processing.preprocessing import dataframe2hdf,normalize_waveform\n"
   ]
  },
  {
   "cell_type": "code",
   "execution_count": 7,
   "id": "41e9b78b-d2df-453a-a07b-e4d3b12e352e",
   "metadata": {},
   "outputs": [],
   "source": []
  },
  {
   "cell_type": "code",
   "execution_count": null,
   "id": "c9384ce0-c320-43c4-8836-112042dfe232",
   "metadata": {},
   "outputs": [],
   "source": []
  },
  {
   "cell_type": "code",
   "execution_count": 39,
   "id": "e2ce8c8e-b20f-4c5e-894c-cb1d45b2d331",
   "metadata": {},
   "outputs": [
    {
     "data": {
      "text/plain": [
       "'MaxAbsScaler'"
      ]
     },
     "execution_count": 39,
     "metadata": {},
     "output_type": "execute_result"
    }
   ],
   "source": []
  },
  {
   "cell_type": "code",
   "execution_count": null,
   "id": "806f3d48-4580-4d93-ae0c-4ef1a4576f6b",
   "metadata": {},
   "outputs": [],
   "source": []
  }
 ],
 "metadata": {
  "kernelspec": {
   "display_name": "Python 3",
   "language": "python",
   "name": "python3"
  },
  "language_info": {
   "codemirror_mode": {
    "name": "ipython",
    "version": 3
   },
   "file_extension": ".py",
   "mimetype": "text/x-python",
   "name": "python",
   "nbconvert_exporter": "python",
   "pygments_lexer": "ipython3",
   "version": "3.9.7"
  }
 },
 "nbformat": 4,
 "nbformat_minor": 5
}
