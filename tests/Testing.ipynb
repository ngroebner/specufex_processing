{
 "cells": [
  {
   "cell_type": "code",
   "execution_count": 1,
   "id": "594c694b-8abc-41c8-8943-2c78ef42ea7f",
   "metadata": {},
   "outputs": [
    {
     "name": "stdout",
     "output_type": "stream",
     "text": [
      "Setup Plotting characteristics .... \n",
      "100\n",
      "Loading the waveforms ... \n",
      "Calculating Distance Matrix for _Cross_Correlation\n",
      "Using 12 cores\n"
     ]
    },
    {
     "name": "stderr",
     "output_type": "stream",
     "text": [
      "100%|██████████| 55/55 [00:01<00:00, 39.12it/s]\n"
     ]
    },
    {
     "name": "stdout",
     "output_type": "stream",
     "text": [
      ": 2.03 s\n",
      "Calculating Distance Matrix for _L1_distance\n",
      "Using 12 cores\n",
      ": 0.01 s\n",
      "Calculating Distance Matrix for _L2_distance\n",
      "Using 12 cores\n",
      ": 0.01 s\n",
      "Calculating Distance Matrix for _cos_distance\n",
      "Using 12 cores\n",
      ": 0.01 s\n",
      "Calculating Distance Matrix for _corr_distance\n",
      "Using 12 cores\n",
      ": 0.00 s\n",
      "Done Calculations\n",
      "Calculating Distance Matrix for _Cross_Correlation\n",
      "Using 12 cores\n"
     ]
    },
    {
     "name": "stderr",
     "output_type": "stream",
     "text": [
      "100%|██████████| 55/55 [00:00<00:00, 432.33it/s]"
     ]
    },
    {
     "name": "stdout",
     "output_type": "stream",
     "text": [
      ": 0.16 s\n"
     ]
    },
    {
     "name": "stderr",
     "output_type": "stream",
     "text": [
      "\n"
     ]
    },
    {
     "name": "stdout",
     "output_type": "stream",
     "text": [
      "Calculating Distance Matrix for _L1_distance\n",
      "Using 12 cores\n",
      ": 0.01 s\n",
      "Calculating Distance Matrix for _L2_distance\n",
      "Using 12 cores\n",
      ": 0.01 s\n",
      "Calculating Distance Matrix for _cos_distance\n",
      "Using 12 cores\n",
      ": 0.01 s\n",
      "Calculating Distance Matrix for _corr_distance\n",
      "Using 12 cores\n",
      ": 0.00 s\n",
      "Done Calculations\n",
      "Loading the spectra ... \n",
      "Calculating Distance Matrix for _Cross_Correlation\n",
      "Using 12 cores\n"
     ]
    },
    {
     "name": "stderr",
     "output_type": "stream",
     "text": [
      "100%|██████████| 55/55 [00:00<00:00, 386.75it/s]"
     ]
    },
    {
     "name": "stdout",
     "output_type": "stream",
     "text": [
      ": 0.18 s\n"
     ]
    },
    {
     "name": "stderr",
     "output_type": "stream",
     "text": [
      "\n"
     ]
    },
    {
     "name": "stdout",
     "output_type": "stream",
     "text": [
      "Calculating Distance Matrix for _L1_distance\n",
      "Using 12 cores\n",
      ": 0.01 s\n",
      "Calculating Distance Matrix for _L2_distance\n",
      "Using 12 cores\n",
      ": 0.09 s\n",
      "Calculating Distance Matrix for _cos_distance\n",
      "Using 12 cores\n",
      ": 0.11 s\n",
      "Calculating Distance Matrix for _corr_distance\n",
      "Using 12 cores\n",
      ": 0.01 s\n",
      "Done Calculations\n",
      "Calculating Distance Matrix for _Cross_Correlation\n",
      "Using 12 cores\n"
     ]
    },
    {
     "name": "stderr",
     "output_type": "stream",
     "text": [
      "100%|██████████| 55/55 [00:00<00:00, 401.54it/s]"
     ]
    },
    {
     "name": "stdout",
     "output_type": "stream",
     "text": [
      ": 0.18 s\n"
     ]
    },
    {
     "name": "stderr",
     "output_type": "stream",
     "text": [
      "\n"
     ]
    },
    {
     "name": "stdout",
     "output_type": "stream",
     "text": [
      "Calculating Distance Matrix for _L1_distance\n",
      "Using 12 cores\n",
      ": 0.01 s\n",
      "Calculating Distance Matrix for _L2_distance\n",
      "Using 12 cores\n",
      ": 0.05 s\n",
      "Calculating Distance Matrix for _cos_distance\n",
      "Using 12 cores\n",
      ": 0.11 s\n",
      "Calculating Distance Matrix for _corr_distance\n",
      "Using 12 cores\n",
      ": 0.01 s\n",
      "Done Calculations\n",
      "Loading the Fingerprints ... \n",
      "Calculating Distance Matrix for _Cross_Correlation\n",
      "Using 12 cores\n"
     ]
    },
    {
     "name": "stderr",
     "output_type": "stream",
     "text": [
      "100%|██████████| 55/55 [00:00<00:00, 476.55it/s]"
     ]
    },
    {
     "name": "stdout",
     "output_type": "stream",
     "text": [
      ": 0.14 s\n"
     ]
    },
    {
     "name": "stderr",
     "output_type": "stream",
     "text": [
      "\n"
     ]
    },
    {
     "name": "stdout",
     "output_type": "stream",
     "text": [
      "Calculating Distance Matrix for _L1_distance\n",
      "Using 12 cores\n",
      ": 0.00 s\n",
      "Calculating Distance Matrix for _L2_distance\n",
      "Using 12 cores\n",
      ": 0.00 s\n",
      "Calculating Distance Matrix for _cos_distance\n",
      "Using 12 cores\n",
      ": 0.01 s\n",
      "Calculating Distance Matrix for _corr_distance\n",
      "Using 12 cores\n",
      ": 0.00 s\n",
      "Done Calculations\n"
     ]
    }
   ],
   "source": [
    "%run '../scripts/4_DistanceCalc.py' config_test1.yml"
   ]
  },
  {
   "cell_type": "code",
   "execution_count": null,
   "id": "5c70a70f-5d20-49c4-9098-4057fb853312",
   "metadata": {},
   "outputs": [],
   "source": []
  },
  {
   "cell_type": "code",
   "execution_count": null,
   "id": "90e7c67d-852c-4f2b-ab27-7909c3d9938f",
   "metadata": {},
   "outputs": [],
   "source": [
    "tmp[col_name].values[0]"
   ]
  },
  {
   "cell_type": "code",
   "execution_count": null,
   "id": "2074c3f5-f17e-43f2-a219-fcd2c7789354",
   "metadata": {},
   "outputs": [],
   "source": []
  },
  {
   "cell_type": "code",
   "execution_count": null,
   "id": "9b1d1927-9583-4a69-9ea9-b7e77c02d904",
   "metadata": {},
   "outputs": [],
   "source": []
  },
  {
   "cell_type": "code",
   "execution_count": null,
   "id": "1891fbed-57d6-4326-8a42-138b8dbf3d7e",
   "metadata": {},
   "outputs": [],
   "source": []
  },
  {
   "cell_type": "code",
   "execution_count": 1,
   "id": "3cf1ef12-18a6-419f-a959-3cc5ebdab30e",
   "metadata": {},
   "outputs": [],
   "source": [
    "#!python3\n",
    "import argparse\n",
    "import os\n",
    "import numpy as np\n",
    "\n",
    "import h5py\n",
    "import pandas as pd\n",
    "import yaml\n",
    "\n",
    "from specufex_processing.preprocessing import dataframe2hdf,normalize_waveform\n",
    "from specufex_processing.utils import _overwrite_group_if_exists\n",
    "from specufex_processing.distance import utils_distance as udst\n",
    "import pdb\n",
    "\n",
    "#import matplotlib as mpl"
   ]
  },
  {
   "cell_type": "code",
   "execution_count": 2,
   "id": "94fc29f8-91d3-4c0c-8624-4acb58630369",
   "metadata": {},
   "outputs": [],
   "source": [
    "with open(\"config_test1.yml\", 'r') as yamlfile:\n",
    "    config = yaml.load(yamlfile, Loader=yaml.FullLoader)\n",
    "\n"
   ]
  },
  {
   "cell_type": "code",
   "execution_count": 3,
   "id": "6ce121a8-d845-4cd5-8b03-46ea55fda18d",
   "metadata": {},
   "outputs": [
    {
     "data": {
      "text/plain": [
       "<module 'specufex_processing.distance.utils_distance' from '/home/tmittal/Dropbox/Projects/gsm/specufex_processing/specufex_processing/distance/utils_distance.py'>"
      ]
     },
     "execution_count": 3,
     "metadata": {},
     "output_type": "execute_result"
    }
   ],
   "source": [
    "import importlib as oe\n",
    "\n",
    "oe.reload(udst)"
   ]
  },
  {
   "cell_type": "code",
   "execution_count": 4,
   "id": "283c9c6d-6dd0-424b-996b-f54461e695ee",
   "metadata": {},
   "outputs": [
    {
     "ename": "NameError",
     "evalue": "name 'args' is not defined",
     "output_type": "error",
     "traceback": [
      "\u001b[0;31m---------------------------------------------------------------------------\u001b[0m",
      "\u001b[0;31mNameError\u001b[0m                                 Traceback (most recent call last)",
      "\u001b[0;32m<ipython-input-4-8595391132fa>\u001b[0m in \u001b[0;36m<module>\u001b[0;34m\u001b[0m\n\u001b[1;32m     12\u001b[0m \u001b[0mdataH5_name\u001b[0m \u001b[0;34m=\u001b[0m \u001b[0;34mf'data_{key}.h5'\u001b[0m\u001b[0;34m\u001b[0m\u001b[0;34m\u001b[0m\u001b[0m\n\u001b[1;32m     13\u001b[0m \u001b[0mprojectPath\u001b[0m \u001b[0;34m=\u001b[0m \u001b[0mpath_config\u001b[0m\u001b[0;34m[\u001b[0m\u001b[0;34m\"projectPath\"\u001b[0m\u001b[0;34m]\u001b[0m\u001b[0;34m\u001b[0m\u001b[0;34m\u001b[0m\u001b[0m\n\u001b[0;32m---> 14\u001b[0;31m \u001b[0mos\u001b[0m\u001b[0;34m.\u001b[0m\u001b[0msystem\u001b[0m\u001b[0;34m(\u001b[0m\u001b[0;34mf' cp {args.config_filename} {projectPath}/'\u001b[0m\u001b[0;34m)\u001b[0m\u001b[0;34m\u001b[0m\u001b[0;34m\u001b[0m\u001b[0m\n\u001b[0m\u001b[1;32m     15\u001b[0m \u001b[0mdataH5_path\u001b[0m \u001b[0;34m=\u001b[0m \u001b[0mos\u001b[0m\u001b[0;34m.\u001b[0m\u001b[0mpath\u001b[0m\u001b[0;34m.\u001b[0m\u001b[0mjoin\u001b[0m\u001b[0;34m(\u001b[0m\u001b[0mprojectPath\u001b[0m\u001b[0;34m,\u001b[0m\u001b[0;34m'H5files/'\u001b[0m\u001b[0;34m,\u001b[0m \u001b[0mdataH5_name\u001b[0m\u001b[0;34m)\u001b[0m\u001b[0;34m\u001b[0m\u001b[0;34m\u001b[0m\u001b[0m\n\u001b[1;32m     16\u001b[0m \u001b[0mSpecUFEx_H5_name\u001b[0m \u001b[0;34m=\u001b[0m \u001b[0;34m'SpecUFEx_'\u001b[0m \u001b[0;34m+\u001b[0m \u001b[0mpath_config\u001b[0m\u001b[0;34m[\u001b[0m\u001b[0;34m\"h5name\"\u001b[0m\u001b[0;34m]\u001b[0m\u001b[0;34m\u001b[0m\u001b[0;34m\u001b[0m\u001b[0m\n",
      "\u001b[0;31mNameError\u001b[0m: name 'args' is not defined"
     ]
    }
   ],
   "source": [
    "    # pull out config values for conciseness\n",
    "    path_config = config[\"paths\"]\n",
    "    key = path_config[\"key\"]\n",
    "\n",
    "    data_config = config['dataParams']\n",
    "    station = data_config[\"station\"]\n",
    "    channel = data_config[\"channel\"]\n",
    "    channel_ID = data_config[\"channel_ID\"]\n",
    "    sampling_rate = data_config[\"sampling_rate\"]\n",
    "\n",
    "    # build path strings\n",
    "    dataH5_name = f'data_{key}.h5'\n",
    "    projectPath = path_config[\"projectPath\"]\n",
    "    os.system(f' cp {args.config_filename} {projectPath}/')\n",
    "    dataH5_path = os.path.join(projectPath,'H5files/', dataH5_name)\n",
    "    SpecUFEx_H5_name = 'SpecUFEx_' + path_config[\"h5name\"]\n",
    "    SpecUFEx_H5_path = os.path.join(projectPath, 'H5files/', SpecUFEx_H5_name)\n",
    "    pathWf_cat  = os.path.join(projectPath, 'wf_cat_out.csv')\n",
    "\n",
    "    path_dist_matrix_base = os.path.join(config['paths']['projectPath'],\"distance_matrices\")\n",
    "    os.makedirs(path_dist_matrix_base,exist_ok=True)\n",
    "\n",
    "    distance_params = config['distanceParams']\n",
    "    overwrite_distance = distance_params['overwrite_distance']\n",
    "    distance_measure_name_list = ['_L1_distance','_L2_distance','_cos_distance','_corr_distance']\n",
    "    distance_measure_name_list_val = ['l1','l2','cosine','correlation']\n",
    "\n",
    "    if distance_params['distance_waveforms'] :\n",
    "        print('Loading the waveforms ... ')\n",
    "        path_dist_matrix_wave = os.path.join(path_dist_matrix_base,\"waveforms\")\n",
    "        os.makedirs(path_dist_matrix_wave,exist_ok=True)\n",
    "\n",
    "        ### Calculate the distance matrices for the waveforms\n",
    "        X = []\n",
    "        with h5py.File(dataH5_path,'r') as fileLoad:\n",
    "            for evID in fileLoad[f'waveforms/{station}/{channel}']:\n",
    "                specMat = fileLoad[f'waveforms/{station}/{channel}'].get(evID)[:]\n",
    "                X.append(specMat)\n",
    "\n",
    "            X = np.array(X)\n",
    "            waveform_size = X.shape[1]\n",
    "        distance_params['shift_allowed'] = int(waveform_size*distance_params['frac_shift_allowed'])\n",
    "\n",
    "        if distance_params['distance_nonNorm'] :\n",
    "            prefix_name = path_dist_matrix_wave+'/Non_normalized_waveform'\n",
    "            os.makedirs(prefix_name,exist_ok=True)\n",
    "            prefix_name = prefix_name+'/Non_normalized_waveform'\n",
    "\n",
    "            udst.calculate_distances_all(X,distance_params,prefix_name,\n",
    "                                        distance_measure_name_list,\n",
    "                                        distance_measure_name_list_val,\n",
    "                                        use_cross_corr=True,\n",
    "                                        make_plots=distance_params['make_dist_plots'])\n",
    "\n",
    "        wave_norm = distance_params['waveform_normalization']\n",
    "        X_norm = normalize_waveform(X,norm_scale = wave_norm,save_plot=True,\n",
    "                                    path_to_save = path_dist_matrix_wave +f\"/Normalized_{wave_norm}\")\n",
    "        prefix_name = path_dist_matrix_wave+f'/{wave_norm}_normalized_waveform'\n",
    "        os.makedirs(prefix_name,exist_ok=True)\n",
    "        prefix_name = prefix_name+f'/{wave_norm}_normalized_waveform'\n",
    "        udst.calculate_distances_all(X_norm,distance_params,prefix_name,\n",
    "                                    distance_measure_name_list,\n",
    "                                    distance_measure_name_list_val,\n",
    "                                    use_cross_corr=True,\n",
    "                                    make_plots=distance_params['make_dist_plots'])\n",
    "        del X, X_norm\n",
    "\n",
    "\n",
    "    if distance_params['distance_spectra'] :\n",
    "        print('Loading the spectra ... ')\n",
    "        path_dist_matrix_spec = os.path.join(path_dist_matrix_base,\"spectrum\")\n",
    "        os.makedirs(path_dist_matrix_spec,exist_ok=True)\n",
    "\n",
    "        X = []\n",
    "        with h5py.File(SpecUFEx_H5_path,'r') as fileLoad:\n",
    "            for evID in fileLoad['spectrograms/transformed_spectrograms']:\n",
    "                specMat = fileLoad['spectrograms/transformed_spectrograms'].get(evID)[:]\n",
    "                X.append(specMat)\n",
    "        X = np.array(X)\n",
    "        waveform_size = X.shape[2]\n",
    "        distance_params['shift_allowed'] = int(waveform_size*0.5)\n",
    "\n",
    "        prefix_name = path_dist_matrix_spec+'/normalized_Spectrum'\n",
    "        os.makedirs(prefix_name,exist_ok=True)\n",
    "        prefix_name = prefix_name+'/normalized_Spectrum'\n",
    "        udst.calculate_distances_all(X,distance_params,prefix_name,\n",
    "                                    distance_measure_name_list,\n",
    "                                    distance_measure_name_list_val,\n",
    "                                    use_cross_corr=True,use_2d=True,\n",
    "                                    make_plots=distance_params['make_dist_plots'])\n",
    "        del X\n",
    "\n",
    "        if distance_params['distance_spectra_nonNorm'] :\n",
    "            X = []\n",
    "            with h5py.File(SpecUFEx_H5_path,'r') as fileLoad:\n",
    "                for evID in fileLoad['spectrograms/raw_spectrograms']:\n",
    "                    specMat = fileLoad['spectrograms/raw_spectrograms'].get(evID)[:]\n",
    "                    X.append(specMat)\n",
    "            X = np.array(X)\n",
    "            waveform_size = X.shape[2]\n",
    "            distance_params['shift_allowed'] = int(waveform_size*0.5)\n",
    "\n",
    "            prefix_name = path_dist_matrix_spec+'/Raw_Spectrum'\n",
    "            os.makedirs(prefix_name,exist_ok=True)\n",
    "            prefix_name = prefix_name+'/Raw_Spectrum'\n",
    "            udst.calculate_distances_all(X,distance_params,prefix_name,\n",
    "                                        distance_measure_name_list,\n",
    "                                        distance_measure_name_list_val,\n",
    "                                        use_cross_corr=True,use_2d=True,\n",
    "                                        make_plots=distance_params['make_dist_plots'])\n",
    "            del X\n",
    "\n",
    "    if distance_params['distance_fingerprint'] :\n",
    "        print('Loading the Fingerprints ... ')\n",
    "        path_dist_matrix_fing = os.path.join(path_dist_matrix_base,\"fingerprint\")\n",
    "        os.makedirs(path_dist_matrix_fing,exist_ok=True)\n",
    "\n",
    "        X = []\n",
    "        with h5py.File(SpecUFEx_H5_path,'r') as fileLoad:\n",
    "            for evID in fileLoad['fingerprints']:\n",
    "                specMat = fileLoad['fingerprints'].get(evID)[:]\n",
    "                X.append(specMat)\n",
    "        X = np.array(X)\n",
    "        waveform_size = X.shape[2]\n",
    "        distance_params['shift_allowed'] = int(waveform_size*0.5)\n",
    "\n",
    "        prefix_name = path_dist_matrix_spec+'/fingerprints'\n",
    "        os.makedirs(prefix_name,exist_ok=True)\n",
    "        prefix_name = prefix_name+'/fingerprints'\n",
    "        udst.calculate_distances_all(X,distance_params,prefix_name,\n",
    "                                    distance_measure_name_list,\n",
    "                                    distance_measure_name_list_val,\n",
    "                                    use_cross_corr=True,use_2d=True,\n",
    "                                    make_plots=distance_params['make_dist_plots'])\n",
    "        del X\n"
   ]
  },
  {
   "cell_type": "code",
   "execution_count": null,
   "id": "7af57637-d347-40e7-9d11-868c72fdd956",
   "metadata": {},
   "outputs": [],
   "source": []
  }
 ],
 "metadata": {
  "kernelspec": {
   "display_name": "Python 3",
   "language": "python",
   "name": "python3"
  },
  "language_info": {
   "codemirror_mode": {
    "name": "ipython",
    "version": 3
   },
   "file_extension": ".py",
   "mimetype": "text/x-python",
   "name": "python",
   "nbconvert_exporter": "python",
   "pygments_lexer": "ipython3",
   "version": "3.9.7"
  }
 },
 "nbformat": 4,
 "nbformat_minor": 5
}
